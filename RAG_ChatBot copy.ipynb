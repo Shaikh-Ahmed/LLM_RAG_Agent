{
 "cells": [
  {
   "cell_type": "markdown",
   "id": "29a68cc6",
   "metadata": {},
   "source": [
    "# Import modules"
   ]
  },
  {
   "cell_type": "code",
   "execution_count": null,
   "id": "bfa130c4",
   "metadata": {},
   "outputs": [],
   "source": [
    "import os\n",
    "import getpass\n",
    "from typing import List\n",
    "from langchain.chat_models import init_chat_model\n",
    "from langchain_huggingface import HuggingFaceEmbeddings\n",
    "\n",
    "# File-type handlers\n",
    "import fitz  # PyMuPDF\n",
    "from docx import Document as DocxDocument\n",
    "from langchain.docstore.document import Document\n",
    "from langchain_community.docstore.in_memory import InMemoryDocstore\n",
    "from langchain_community.vectorstores import FAISS\n",
    "\n"
   ]
  },
  {
   "cell_type": "code",
   "execution_count": null,
   "id": "7bb7810d",
   "metadata": {},
   "outputs": [],
   "source": [
    "if not os.environ.get(\"GROQ_API_KEY\"):\n",
    "  os.environ[\"GROQ_API_KEY\"] = getpass.getpass(\"Enter API key for Groq: \") "
   ]
  },
  {
   "cell_type": "code",
   "execution_count": 6,
   "id": "e2b7c0f3",
   "metadata": {},
   "outputs": [],
   "source": [
    "# Initialize the chat model\n",
    "# Note: Ensure you have the correct model name and provider\n",
    "llm = init_chat_model(\"llama3-8b-8192\", model_provider=\"groq\")"
   ]
  },
  {
   "cell_type": "code",
   "execution_count": 17,
   "id": "dfa3a04f",
   "metadata": {},
   "outputs": [],
   "source": [
    "# Supported extensions\n",
    "SUPPORTED_EXTENSIONS = {'.pdf', '.docx', '.txt'}"
   ]
  },
  {
   "cell_type": "code",
   "execution_count": 16,
   "id": "2a16dccc",
   "metadata": {},
   "outputs": [],
   "source": [
    "def load_pdf(path: str) -> List[Document]:\n",
    "    doc = fitz.open(path)\n",
    "    texts = [page.get_text() for page in doc]\n",
    "    return [Document(page_content=text, metadata={\"source\": path}) for text in texts]\n",
    "\n",
    "def load_docx(path: str) -> List[Document]:\n",
    "    doc = DocxDocument(path)\n",
    "    full_text = \"\\n\".join(p.text for p in doc.paragraphs)\n",
    "    return [Document(page_content=full_text, metadata={\"source\": path})]\n",
    "\n",
    "def load_txt(path: str) -> List[Document]:\n",
    "    with open(path, 'r', encoding='utf-8') as f:\n",
    "        text = f.read()\n",
    "    return [Document(page_content=text, metadata={\"source\": path})]\n",
    "\n",
    "def load_file(path: str) -> List[Document]:\n",
    "    ext = os.path.splitext(path)[-1].lower()\n",
    "    if ext == '.pdf':\n",
    "        return load_pdf(path)\n",
    "    elif ext == '.docx':\n",
    "        return load_docx(path)\n",
    "    elif ext == '.txt':\n",
    "        return load_txt(path)\n",
    "    else:\n",
    "        raise ValueError(f\"Unsupported file type: {ext}\")"
   ]
  },
  {
   "cell_type": "code",
   "execution_count": 18,
   "id": "86f7caed",
   "metadata": {},
   "outputs": [],
   "source": [
    "\n",
    "def load_documents_from_folder(folder_path: str) -> List[Document]:\n",
    "    all_docs = []\n",
    "    for root, _, files in os.walk(folder_path):\n",
    "        for file in files:\n",
    "            ext = os.path.splitext(file)[-1].lower()\n",
    "            if ext in SUPPORTED_EXTENSIONS:\n",
    "                full_path = os.path.join(root, file)\n",
    "                try:\n",
    "                    docs = load_file(full_path)\n",
    "                    all_docs.extend(docs)\n",
    "                except Exception as e:\n",
    "                    print(f\"Failed to load {full_path}: {e}\")\n",
    "    return all_docs"
   ]
  },
  {
   "cell_type": "code",
   "execution_count": 23,
   "id": "f38a342e",
   "metadata": {},
   "outputs": [],
   "source": [
    "# import bs4\n",
    "from langchain import hub\n",
    "from langchain_community.document_loaders import WebBaseLoader\n",
    "from langchain_core.documents import Document\n",
    "from langchain_text_splitters import RecursiveCharacterTextSplitter\n",
    "from langgraph.graph import START, StateGraph\n",
    "from typing_extensions import List, TypedDict\n",
    "from langchain.chains import RetrievalQA\n",
    "import gradio as gr\n",
    "import tempfile"
   ]
  },
  {
   "cell_type": "code",
   "execution_count": null,
   "id": "e2426072",
   "metadata": {},
   "outputs": [],
   "source": [
    "\n",
    "# --- RAG Build ---\n",
    "def build_vectorstore(documents: List[Document]):\n",
    "    text_splitter = RecursiveCharacterTextSplitter(chunk_size=1000, chunk_overlap=100)\n",
    "    chunks = text_splitter.split_documents(documents)\n",
    "    embeddings = HuggingFaceEmbeddings(model_name=\"sentence-transformers/all-mpnet-base-v2\")\n",
    "    return FAISS.from_documents(chunks, embeddings)"
   ]
  },
  {
   "cell_type": "code",
   "execution_count": 22,
   "id": "97e955ca",
   "metadata": {},
   "outputs": [],
   "source": [
    "def query_rag(db, query: str) -> str:\n",
    "    retriever = db.as_retriever(search_kwargs={\"k\": 3})\n",
    "    qa_chain = RetrievalQA.from_chain_type(llm=llm, retriever=retriever)\n",
    "    return qa_chain.run(query)"
   ]
  },
  {
   "cell_type": "code",
   "execution_count": null,
   "id": "2db438ee",
   "metadata": {},
   "outputs": [
    {
     "name": "stdout",
     "output_type": "stream",
     "text": [
      "* Running on local URL:  http://127.0.0.1:7860\n",
      "* To create a public link, set `share=True` in `launch()`.\n"
     ]
    },
    {
     "data": {
      "text/html": [
       "<div><iframe src=\"http://127.0.0.1:7860/\" width=\"100%\" height=\"500\" allow=\"autoplay; camera; microphone; clipboard-read; clipboard-write;\" frameborder=\"0\" allowfullscreen></iframe></div>"
      ],
      "text/plain": [
       "<IPython.core.display.HTML object>"
      ]
     },
     "metadata": {},
     "output_type": "display_data"
    },
    {
     "data": {
      "text/plain": []
     },
     "execution_count": 24,
     "metadata": {},
     "output_type": "execute_result"
    },
    {
     "name": "stderr",
     "output_type": "stream",
     "text": [
      "Traceback (most recent call last):\n",
      "  File \"c:\\Users\\faiza\\anaconda3\\envs\\ai_env\\Lib\\site-packages\\gradio\\queueing.py\", line 626, in process_events\n",
      "    response = await route_utils.call_process_api(\n",
      "               ^^^^^^^^^^^^^^^^^^^^^^^^^^^^^^^^^^^\n",
      "    ...<5 lines>...\n",
      "    )\n",
      "    ^\n",
      "  File \"c:\\Users\\faiza\\anaconda3\\envs\\ai_env\\Lib\\site-packages\\gradio\\route_utils.py\", line 350, in call_process_api\n",
      "    output = await app.get_blocks().process_api(\n",
      "             ^^^^^^^^^^^^^^^^^^^^^^^^^^^^^^^^^^^\n",
      "    ...<11 lines>...\n",
      "    )\n",
      "    ^\n",
      "  File \"c:\\Users\\faiza\\anaconda3\\envs\\ai_env\\Lib\\site-packages\\gradio\\blocks.py\", line 2240, in process_api\n",
      "    result = await self.call_function(\n",
      "             ^^^^^^^^^^^^^^^^^^^^^^^^^\n",
      "    ...<8 lines>...\n",
      "    )\n",
      "    ^\n",
      "  File \"c:\\Users\\faiza\\anaconda3\\envs\\ai_env\\Lib\\site-packages\\gradio\\blocks.py\", line 1747, in call_function\n",
      "    prediction = await anyio.to_thread.run_sync(  # type: ignore\n",
      "                 ^^^^^^^^^^^^^^^^^^^^^^^^^^^^^^^^^^^^^^^^^^^^^^^\n",
      "        fn, *processed_input, limiter=self.limiter\n",
      "        ^^^^^^^^^^^^^^^^^^^^^^^^^^^^^^^^^^^^^^^^^^\n",
      "    )\n",
      "    ^\n",
      "  File \"c:\\Users\\faiza\\anaconda3\\envs\\ai_env\\Lib\\site-packages\\anyio\\to_thread.py\", line 56, in run_sync\n",
      "    return await get_async_backend().run_sync_in_worker_thread(\n",
      "           ^^^^^^^^^^^^^^^^^^^^^^^^^^^^^^^^^^^^^^^^^^^^^^^^^^^^\n",
      "        func, args, abandon_on_cancel=abandon_on_cancel, limiter=limiter\n",
      "        ^^^^^^^^^^^^^^^^^^^^^^^^^^^^^^^^^^^^^^^^^^^^^^^^^^^^^^^^^^^^^^^^\n",
      "    )\n",
      "    ^\n",
      "  File \"c:\\Users\\faiza\\anaconda3\\envs\\ai_env\\Lib\\site-packages\\anyio\\_backends\\_asyncio.py\", line 2476, in run_sync_in_worker_thread\n",
      "    return await future\n",
      "           ^^^^^^^^^^^^\n",
      "  File \"c:\\Users\\faiza\\anaconda3\\envs\\ai_env\\Lib\\site-packages\\anyio\\_backends\\_asyncio.py\", line 967, in run\n",
      "    result = context.run(func, *args)\n",
      "  File \"c:\\Users\\faiza\\anaconda3\\envs\\ai_env\\Lib\\site-packages\\gradio\\utils.py\", line 917, in wrapper\n",
      "    response = f(*args, **kwargs)\n",
      "  File \"C:\\Users\\faiza\\AppData\\Local\\Temp\\ipykernel_16116\\3017970416.py\", line 9, in handle_file_upload\n",
      "    temp.write(file.read())\n",
      "               ^^^^^^^^^\n",
      "AttributeError: 'NamedString' object has no attribute 'read'\n"
     ]
    }
   ],
   "source": [
    "# --- Gradio Handler ---\n",
    "vectorstore = None\n",
    "\n",
    "def handle_file_upload(files):\n",
    "    global vectorstore\n",
    "    temp_paths = []\n",
    "    for file in files:\n",
    "        temp = tempfile.NamedTemporaryFile(delete=False)\n",
    "        temp.write(file.read())\n",
    "        temp.close()\n",
    "        temp_paths.append(temp.name)\n",
    "    docs = load_documents_from_folder(temp_paths)\n",
    "    if not docs:\n",
    "        return \"No valid documents uploaded.\"\n",
    "    vectorstore = build_vectorstore(docs)\n",
    "    return \"Documents loaded and indexed. Ask your question.\"\n"
   ]
  },
  {
   "cell_type": "code",
   "execution_count": null,
   "id": "5e690c39",
   "metadata": {},
   "outputs": [],
   "source": [
    "\n",
    "def handle_query(question):\n",
    "    global vectorstore\n",
    "    if vectorstore is None:\n",
    "        return \"Please upload documents first.\"\n",
    "    return query_rag(vectorstore, question)\n",
    "\n"
   ]
  },
  {
   "cell_type": "code",
   "execution_count": null,
   "id": "3ae82f6a",
   "metadata": {},
   "outputs": [],
   "source": [
    "# --- Gradio UI ---\n",
    "# with gr.Blocks() as demo:\n",
    "#     gr.Markdown(\"## 🔍 RAG File QA (PDF/DOCX/TXT)\")\n",
    "\n",
    "#     file_input = gr.File(file_types=['.pdf', '.docx', '.txt'], file_count=\"multiple\", label=\"Upload Files\")\n",
    "#     upload_btn = gr.Button(\"Load Documents\")\n",
    "\n",
    "#     status = gr.Textbox(label=\"Status\")\n",
    "#     upload_btn.click(fn=handle_file_upload, inputs=[file_input], outputs=[status])\n",
    "\n",
    "#     question = gr.Textbox(label=\"Ask a Question\")\n",
    "#     answer = gr.Textbox(label=\"Answer\", lines=6)\n",
    "#     ask_btn = gr.Button(\"Get Answer\")\n",
    "\n",
    "#     ask_btn.click(fn=handle_query, inputs=[question], outputs=[answer])\n",
    "\n",
    "# demo.launch()"
   ]
  },
  {
   "cell_type": "code",
   "execution_count": null,
   "id": "c3ee35c1",
   "metadata": {},
   "outputs": [],
   "source": []
  },
  {
   "cell_type": "code",
   "execution_count": null,
   "id": "16d64232",
   "metadata": {},
   "outputs": [],
   "source": []
  }
 ],
 "metadata": {
  "kernelspec": {
   "display_name": "ai_env",
   "language": "python",
   "name": "python3"
  },
  "language_info": {
   "codemirror_mode": {
    "name": "ipython",
    "version": 3
   },
   "file_extension": ".py",
   "mimetype": "text/x-python",
   "name": "python",
   "nbconvert_exporter": "python",
   "pygments_lexer": "ipython3",
   "version": "3.13.5"
  }
 },
 "nbformat": 4,
 "nbformat_minor": 5
}
